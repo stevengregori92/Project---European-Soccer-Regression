{
  "cells": [
    {
      "cell_type": "markdown",
      "metadata": {
        "id": "view-in-github",
        "colab_type": "text"
      },
      "source": [
        "<a href=\"https://colab.research.google.com/github/stevengregori92/Project---European-Soccer-Regression/blob/main/Project_European_Soccer_Regression.ipynb\" target=\"_parent\"><img src=\"https://colab.research.google.com/assets/colab-badge.svg\" alt=\"Open In Colab\"/></a>"
      ]
    },
    {
      "cell_type": "markdown",
      "id": "39c877c9",
      "metadata": {
        "id": "39c877c9"
      },
      "source": [
        "# Predict Soccer Players with Regression"
      ]
    },
    {
      "cell_type": "markdown",
      "id": "26869a35",
      "metadata": {
        "id": "26869a35"
      },
      "source": [
        "![Data Science Workflow](img/ds-workflow.png)"
      ]
    },
    {
      "cell_type": "markdown",
      "id": "e06eeb79",
      "metadata": {
        "id": "e06eeb79"
      },
      "source": [
        "## Goal of Project\n",
        "- Make a model to predict players overall rating based on metrics\n",
        "- This is a subset of the Kaggle dataset [European Soccer Database](https://www.kaggle.com/hugomathien/soccer)\n",
        "    - A bigger project is to predict outcomes of games"
      ]
    },
    {
      "cell_type": "markdown",
      "id": "77f362c4",
      "metadata": {
        "id": "77f362c4"
      },
      "source": [
        "## Step 1: Acquire\n",
        "- Explore problem\n",
        "- Identify data\n",
        "- Import data"
      ]
    },
    {
      "cell_type": "markdown",
      "id": "6f8cbbcb",
      "metadata": {
        "id": "6f8cbbcb"
      },
      "source": [
        "### Step 1.a: Import libraries\n",
        "- Execute the cell below (SHIFT + ENTER)"
      ]
    },
    {
      "cell_type": "code",
      "execution_count": null,
      "id": "fd471b02",
      "metadata": {
        "id": "fd471b02"
      },
      "outputs": [],
      "source": [
        "import pandas as pd\n",
        "from sklearn.linear_model import LinearRegression\n",
        "from sklearn.model_selection import train_test_split\n",
        "from sklearn.metrics import r2_score"
      ]
    },
    {
      "cell_type": "markdown",
      "id": "b5f9a799",
      "metadata": {
        "id": "b5f9a799"
      },
      "source": [
        "### Step 1.b: Read the data\n",
        "- Use ```pd.read_parquet()``` to read the file `files/soccer.parquet`\n",
        "- NOTE: Remember to assign the result to a variable (e.g., ```data```)\n",
        "- Apply ```.head()``` on the data to see all is as expected"
      ]
    },
    {
      "cell_type": "code",
      "execution_count": null,
      "id": "abd8554d",
      "metadata": {
        "id": "abd8554d"
      },
      "outputs": [],
      "source": [
        "data = pd.read_parquet('soccer.parquet')"
      ]
    },
    {
      "cell_type": "code",
      "execution_count": null,
      "id": "db22e284",
      "metadata": {
        "colab": {
          "base_uri": "https://localhost:8080/",
          "height": 504
        },
        "id": "db22e284",
        "outputId": "510285af-39eb-4fd8-f3c5-d74e5fa8e3a9"
      },
      "outputs": [
        {
          "output_type": "execute_result",
          "data": {
            "text/plain": [
              "    player_fifa_api_id  player_api_id                 date  overall_rating  \\\n",
              "id                                                                           \n",
              "1               218353         505942  2016-02-18 00:00:00            67.0   \n",
              "2               218353         505942  2015-11-19 00:00:00            67.0   \n",
              "3               218353         505942  2015-09-21 00:00:00            62.0   \n",
              "4               218353         505942  2015-03-20 00:00:00            61.0   \n",
              "5               218353         505942  2007-02-22 00:00:00            61.0   \n",
              "\n",
              "    potential preferred_foot attacking_work_rate defensive_work_rate  \\\n",
              "id                                                                     \n",
              "1        71.0          right              medium              medium   \n",
              "2        71.0          right              medium              medium   \n",
              "3        66.0          right              medium              medium   \n",
              "4        65.0          right              medium              medium   \n",
              "5        65.0          right              medium              medium   \n",
              "\n",
              "    crossing  finishing  ...  vision  penalties  marking  standing_tackle  \\\n",
              "id                       ...                                                \n",
              "1       49.0       44.0  ...    54.0       48.0     65.0             69.0   \n",
              "2       49.0       44.0  ...    54.0       48.0     65.0             69.0   \n",
              "3       49.0       44.0  ...    54.0       48.0     65.0             66.0   \n",
              "4       48.0       43.0  ...    53.0       47.0     62.0             63.0   \n",
              "5       48.0       43.0  ...    53.0       47.0     62.0             63.0   \n",
              "\n",
              "    sliding_tackle  gk_diving  gk_handling  gk_kicking  gk_positioning  \\\n",
              "id                                                                       \n",
              "1             69.0        6.0         11.0        10.0             8.0   \n",
              "2             69.0        6.0         11.0        10.0             8.0   \n",
              "3             69.0        6.0         11.0        10.0             8.0   \n",
              "4             66.0        5.0         10.0         9.0             7.0   \n",
              "5             66.0        5.0         10.0         9.0             7.0   \n",
              "\n",
              "    gk_reflexes  \n",
              "id               \n",
              "1           8.0  \n",
              "2           8.0  \n",
              "3           8.0  \n",
              "4           7.0  \n",
              "5           7.0  \n",
              "\n",
              "[5 rows x 41 columns]"
            ],
            "text/html": [
              "\n",
              "  <div id=\"df-73084893-c603-43e6-bb69-bc19abcd6322\">\n",
              "    <div class=\"colab-df-container\">\n",
              "      <div>\n",
              "<style scoped>\n",
              "    .dataframe tbody tr th:only-of-type {\n",
              "        vertical-align: middle;\n",
              "    }\n",
              "\n",
              "    .dataframe tbody tr th {\n",
              "        vertical-align: top;\n",
              "    }\n",
              "\n",
              "    .dataframe thead th {\n",
              "        text-align: right;\n",
              "    }\n",
              "</style>\n",
              "<table border=\"1\" class=\"dataframe\">\n",
              "  <thead>\n",
              "    <tr style=\"text-align: right;\">\n",
              "      <th></th>\n",
              "      <th>player_fifa_api_id</th>\n",
              "      <th>player_api_id</th>\n",
              "      <th>date</th>\n",
              "      <th>overall_rating</th>\n",
              "      <th>potential</th>\n",
              "      <th>preferred_foot</th>\n",
              "      <th>attacking_work_rate</th>\n",
              "      <th>defensive_work_rate</th>\n",
              "      <th>crossing</th>\n",
              "      <th>finishing</th>\n",
              "      <th>...</th>\n",
              "      <th>vision</th>\n",
              "      <th>penalties</th>\n",
              "      <th>marking</th>\n",
              "      <th>standing_tackle</th>\n",
              "      <th>sliding_tackle</th>\n",
              "      <th>gk_diving</th>\n",
              "      <th>gk_handling</th>\n",
              "      <th>gk_kicking</th>\n",
              "      <th>gk_positioning</th>\n",
              "      <th>gk_reflexes</th>\n",
              "    </tr>\n",
              "    <tr>\n",
              "      <th>id</th>\n",
              "      <th></th>\n",
              "      <th></th>\n",
              "      <th></th>\n",
              "      <th></th>\n",
              "      <th></th>\n",
              "      <th></th>\n",
              "      <th></th>\n",
              "      <th></th>\n",
              "      <th></th>\n",
              "      <th></th>\n",
              "      <th></th>\n",
              "      <th></th>\n",
              "      <th></th>\n",
              "      <th></th>\n",
              "      <th></th>\n",
              "      <th></th>\n",
              "      <th></th>\n",
              "      <th></th>\n",
              "      <th></th>\n",
              "      <th></th>\n",
              "      <th></th>\n",
              "    </tr>\n",
              "  </thead>\n",
              "  <tbody>\n",
              "    <tr>\n",
              "      <th>1</th>\n",
              "      <td>218353</td>\n",
              "      <td>505942</td>\n",
              "      <td>2016-02-18 00:00:00</td>\n",
              "      <td>67.0</td>\n",
              "      <td>71.0</td>\n",
              "      <td>right</td>\n",
              "      <td>medium</td>\n",
              "      <td>medium</td>\n",
              "      <td>49.0</td>\n",
              "      <td>44.0</td>\n",
              "      <td>...</td>\n",
              "      <td>54.0</td>\n",
              "      <td>48.0</td>\n",
              "      <td>65.0</td>\n",
              "      <td>69.0</td>\n",
              "      <td>69.0</td>\n",
              "      <td>6.0</td>\n",
              "      <td>11.0</td>\n",
              "      <td>10.0</td>\n",
              "      <td>8.0</td>\n",
              "      <td>8.0</td>\n",
              "    </tr>\n",
              "    <tr>\n",
              "      <th>2</th>\n",
              "      <td>218353</td>\n",
              "      <td>505942</td>\n",
              "      <td>2015-11-19 00:00:00</td>\n",
              "      <td>67.0</td>\n",
              "      <td>71.0</td>\n",
              "      <td>right</td>\n",
              "      <td>medium</td>\n",
              "      <td>medium</td>\n",
              "      <td>49.0</td>\n",
              "      <td>44.0</td>\n",
              "      <td>...</td>\n",
              "      <td>54.0</td>\n",
              "      <td>48.0</td>\n",
              "      <td>65.0</td>\n",
              "      <td>69.0</td>\n",
              "      <td>69.0</td>\n",
              "      <td>6.0</td>\n",
              "      <td>11.0</td>\n",
              "      <td>10.0</td>\n",
              "      <td>8.0</td>\n",
              "      <td>8.0</td>\n",
              "    </tr>\n",
              "    <tr>\n",
              "      <th>3</th>\n",
              "      <td>218353</td>\n",
              "      <td>505942</td>\n",
              "      <td>2015-09-21 00:00:00</td>\n",
              "      <td>62.0</td>\n",
              "      <td>66.0</td>\n",
              "      <td>right</td>\n",
              "      <td>medium</td>\n",
              "      <td>medium</td>\n",
              "      <td>49.0</td>\n",
              "      <td>44.0</td>\n",
              "      <td>...</td>\n",
              "      <td>54.0</td>\n",
              "      <td>48.0</td>\n",
              "      <td>65.0</td>\n",
              "      <td>66.0</td>\n",
              "      <td>69.0</td>\n",
              "      <td>6.0</td>\n",
              "      <td>11.0</td>\n",
              "      <td>10.0</td>\n",
              "      <td>8.0</td>\n",
              "      <td>8.0</td>\n",
              "    </tr>\n",
              "    <tr>\n",
              "      <th>4</th>\n",
              "      <td>218353</td>\n",
              "      <td>505942</td>\n",
              "      <td>2015-03-20 00:00:00</td>\n",
              "      <td>61.0</td>\n",
              "      <td>65.0</td>\n",
              "      <td>right</td>\n",
              "      <td>medium</td>\n",
              "      <td>medium</td>\n",
              "      <td>48.0</td>\n",
              "      <td>43.0</td>\n",
              "      <td>...</td>\n",
              "      <td>53.0</td>\n",
              "      <td>47.0</td>\n",
              "      <td>62.0</td>\n",
              "      <td>63.0</td>\n",
              "      <td>66.0</td>\n",
              "      <td>5.0</td>\n",
              "      <td>10.0</td>\n",
              "      <td>9.0</td>\n",
              "      <td>7.0</td>\n",
              "      <td>7.0</td>\n",
              "    </tr>\n",
              "    <tr>\n",
              "      <th>5</th>\n",
              "      <td>218353</td>\n",
              "      <td>505942</td>\n",
              "      <td>2007-02-22 00:00:00</td>\n",
              "      <td>61.0</td>\n",
              "      <td>65.0</td>\n",
              "      <td>right</td>\n",
              "      <td>medium</td>\n",
              "      <td>medium</td>\n",
              "      <td>48.0</td>\n",
              "      <td>43.0</td>\n",
              "      <td>...</td>\n",
              "      <td>53.0</td>\n",
              "      <td>47.0</td>\n",
              "      <td>62.0</td>\n",
              "      <td>63.0</td>\n",
              "      <td>66.0</td>\n",
              "      <td>5.0</td>\n",
              "      <td>10.0</td>\n",
              "      <td>9.0</td>\n",
              "      <td>7.0</td>\n",
              "      <td>7.0</td>\n",
              "    </tr>\n",
              "  </tbody>\n",
              "</table>\n",
              "<p>5 rows × 41 columns</p>\n",
              "</div>\n",
              "      <button class=\"colab-df-convert\" onclick=\"convertToInteractive('df-73084893-c603-43e6-bb69-bc19abcd6322')\"\n",
              "              title=\"Convert this dataframe to an interactive table.\"\n",
              "              style=\"display:none;\">\n",
              "        \n",
              "  <svg xmlns=\"http://www.w3.org/2000/svg\" height=\"24px\"viewBox=\"0 0 24 24\"\n",
              "       width=\"24px\">\n",
              "    <path d=\"M0 0h24v24H0V0z\" fill=\"none\"/>\n",
              "    <path d=\"M18.56 5.44l.94 2.06.94-2.06 2.06-.94-2.06-.94-.94-2.06-.94 2.06-2.06.94zm-11 1L8.5 8.5l.94-2.06 2.06-.94-2.06-.94L8.5 2.5l-.94 2.06-2.06.94zm10 10l.94 2.06.94-2.06 2.06-.94-2.06-.94-.94-2.06-.94 2.06-2.06.94z\"/><path d=\"M17.41 7.96l-1.37-1.37c-.4-.4-.92-.59-1.43-.59-.52 0-1.04.2-1.43.59L10.3 9.45l-7.72 7.72c-.78.78-.78 2.05 0 2.83L4 21.41c.39.39.9.59 1.41.59.51 0 1.02-.2 1.41-.59l7.78-7.78 2.81-2.81c.8-.78.8-2.07 0-2.86zM5.41 20L4 18.59l7.72-7.72 1.47 1.35L5.41 20z\"/>\n",
              "  </svg>\n",
              "      </button>\n",
              "      \n",
              "  <style>\n",
              "    .colab-df-container {\n",
              "      display:flex;\n",
              "      flex-wrap:wrap;\n",
              "      gap: 12px;\n",
              "    }\n",
              "\n",
              "    .colab-df-convert {\n",
              "      background-color: #E8F0FE;\n",
              "      border: none;\n",
              "      border-radius: 50%;\n",
              "      cursor: pointer;\n",
              "      display: none;\n",
              "      fill: #1967D2;\n",
              "      height: 32px;\n",
              "      padding: 0 0 0 0;\n",
              "      width: 32px;\n",
              "    }\n",
              "\n",
              "    .colab-df-convert:hover {\n",
              "      background-color: #E2EBFA;\n",
              "      box-shadow: 0px 1px 2px rgba(60, 64, 67, 0.3), 0px 1px 3px 1px rgba(60, 64, 67, 0.15);\n",
              "      fill: #174EA6;\n",
              "    }\n",
              "\n",
              "    [theme=dark] .colab-df-convert {\n",
              "      background-color: #3B4455;\n",
              "      fill: #D2E3FC;\n",
              "    }\n",
              "\n",
              "    [theme=dark] .colab-df-convert:hover {\n",
              "      background-color: #434B5C;\n",
              "      box-shadow: 0px 1px 3px 1px rgba(0, 0, 0, 0.15);\n",
              "      filter: drop-shadow(0px 1px 2px rgba(0, 0, 0, 0.3));\n",
              "      fill: #FFFFFF;\n",
              "    }\n",
              "  </style>\n",
              "\n",
              "      <script>\n",
              "        const buttonEl =\n",
              "          document.querySelector('#df-73084893-c603-43e6-bb69-bc19abcd6322 button.colab-df-convert');\n",
              "        buttonEl.style.display =\n",
              "          google.colab.kernel.accessAllowed ? 'block' : 'none';\n",
              "\n",
              "        async function convertToInteractive(key) {\n",
              "          const element = document.querySelector('#df-73084893-c603-43e6-bb69-bc19abcd6322');\n",
              "          const dataTable =\n",
              "            await google.colab.kernel.invokeFunction('convertToInteractive',\n",
              "                                                     [key], {});\n",
              "          if (!dataTable) return;\n",
              "\n",
              "          const docLinkHtml = 'Like what you see? Visit the ' +\n",
              "            '<a target=\"_blank\" href=https://colab.research.google.com/notebooks/data_table.ipynb>data table notebook</a>'\n",
              "            + ' to learn more about interactive tables.';\n",
              "          element.innerHTML = '';\n",
              "          dataTable['output_type'] = 'display_data';\n",
              "          await google.colab.output.renderOutput(dataTable, element);\n",
              "          const docLink = document.createElement('div');\n",
              "          docLink.innerHTML = docLinkHtml;\n",
              "          element.appendChild(docLink);\n",
              "        }\n",
              "      </script>\n",
              "    </div>\n",
              "  </div>\n",
              "  "
            ]
          },
          "metadata": {},
          "execution_count": 3
        }
      ],
      "source": [
        "data.head()"
      ]
    },
    {
      "cell_type": "markdown",
      "id": "11862c2e",
      "metadata": {
        "id": "11862c2e"
      },
      "source": [
        "### Step 1.c: Data size\n",
        "- HINT: `len(data)`"
      ]
    },
    {
      "cell_type": "code",
      "execution_count": null,
      "id": "54cb7805",
      "metadata": {
        "colab": {
          "base_uri": "https://localhost:8080/"
        },
        "id": "54cb7805",
        "outputId": "39e16e11-45b8-4adc-ccfa-4297e1e5c37d"
      },
      "outputs": [
        {
          "output_type": "execute_result",
          "data": {
            "text/plain": [
              "183978"
            ]
          },
          "metadata": {},
          "execution_count": 4
        }
      ],
      "source": [
        "len(data)"
      ]
    },
    {
      "cell_type": "code",
      "source": [
        "data.shape"
      ],
      "metadata": {
        "colab": {
          "base_uri": "https://localhost:8080/"
        },
        "id": "dz1hlgTaZMF8",
        "outputId": "a1770948-3dde-4088-b595-c2959ba42ce7"
      },
      "id": "dz1hlgTaZMF8",
      "execution_count": null,
      "outputs": [
        {
          "output_type": "execute_result",
          "data": {
            "text/plain": [
              "(183978, 41)"
            ]
          },
          "metadata": {},
          "execution_count": 5
        }
      ]
    },
    {
      "cell_type": "markdown",
      "id": "3bec949d",
      "metadata": {
        "id": "3bec949d"
      },
      "source": [
        "## Step 2: Prepare\n",
        "- Explore data\n",
        "- Visualize ideas\n",
        "- Cleaning data"
      ]
    },
    {
      "cell_type": "markdown",
      "id": "a2377dd7",
      "metadata": {
        "id": "a2377dd7"
      },
      "source": [
        "### Step 2.a: Inspect the data\n",
        "- There are many metrics\n",
        "- To keep it simple let's keep the numeric\n",
        "    - HINT: find them with `.dtypes`\n",
        "- You can select all columns of numeric data types as follows `.select_dtypes(include='number')`\n",
        "    - HINT: assign all the numeric columns to your variable (this is needed for the model, as it does not understand non-numeric features)."
      ]
    },
    {
      "cell_type": "code",
      "execution_count": null,
      "id": "63e6b2c3",
      "metadata": {
        "colab": {
          "base_uri": "https://localhost:8080/"
        },
        "id": "63e6b2c3",
        "outputId": "26b86544-1e0a-471e-f0a1-aac3b2e71d6a"
      },
      "outputs": [
        {
          "output_type": "execute_result",
          "data": {
            "text/plain": [
              "player_fifa_api_id       int64\n",
              "player_api_id            int64\n",
              "date                    object\n",
              "overall_rating         float64\n",
              "potential              float64\n",
              "preferred_foot          object\n",
              "attacking_work_rate     object\n",
              "defensive_work_rate     object\n",
              "crossing               float64\n",
              "finishing              float64\n",
              "heading_accuracy       float64\n",
              "short_passing          float64\n",
              "volleys                float64\n",
              "dribbling              float64\n",
              "curve                  float64\n",
              "free_kick_accuracy     float64\n",
              "long_passing           float64\n",
              "ball_control           float64\n",
              "acceleration           float64\n",
              "sprint_speed           float64\n",
              "agility                float64\n",
              "reactions              float64\n",
              "balance                float64\n",
              "shot_power             float64\n",
              "jumping                float64\n",
              "stamina                float64\n",
              "strength               float64\n",
              "long_shots             float64\n",
              "aggression             float64\n",
              "interceptions          float64\n",
              "positioning            float64\n",
              "vision                 float64\n",
              "penalties              float64\n",
              "marking                float64\n",
              "standing_tackle        float64\n",
              "sliding_tackle         float64\n",
              "gk_diving              float64\n",
              "gk_handling            float64\n",
              "gk_kicking             float64\n",
              "gk_positioning         float64\n",
              "gk_reflexes            float64\n",
              "dtype: object"
            ]
          },
          "metadata": {},
          "execution_count": 6
        }
      ],
      "source": [
        "data.dtypes"
      ]
    },
    {
      "cell_type": "code",
      "execution_count": null,
      "id": "670532d2",
      "metadata": {
        "colab": {
          "base_uri": "https://localhost:8080/",
          "height": 519
        },
        "id": "670532d2",
        "outputId": "14f36eab-e226-44d7-ea15-48a5e0cc4c15"
      },
      "outputs": [
        {
          "output_type": "execute_result",
          "data": {
            "text/plain": [
              "        player_fifa_api_id  player_api_id  overall_rating  potential  \\\n",
              "id                                                                     \n",
              "1                   218353         505942            67.0       71.0   \n",
              "2                   218353         505942            67.0       71.0   \n",
              "3                   218353         505942            62.0       66.0   \n",
              "4                   218353         505942            61.0       65.0   \n",
              "5                   218353         505942            61.0       65.0   \n",
              "...                    ...            ...             ...        ...   \n",
              "183974              102359          39902            83.0       85.0   \n",
              "183975              102359          39902            78.0       80.0   \n",
              "183976              102359          39902            77.0       80.0   \n",
              "183977              102359          39902            78.0       81.0   \n",
              "183978              102359          39902            80.0       81.0   \n",
              "\n",
              "        crossing  finishing  heading_accuracy  short_passing  volleys  \\\n",
              "id                                                                      \n",
              "1           49.0       44.0              71.0           61.0     44.0   \n",
              "2           49.0       44.0              71.0           61.0     44.0   \n",
              "3           49.0       44.0              71.0           61.0     44.0   \n",
              "4           48.0       43.0              70.0           60.0     43.0   \n",
              "5           48.0       43.0              70.0           60.0     43.0   \n",
              "...          ...        ...               ...            ...      ...   \n",
              "183974      84.0       77.0              59.0           89.0     77.0   \n",
              "183975      74.0       76.0              53.0           84.0     77.0   \n",
              "183976      74.0       71.0              53.0           84.0     77.0   \n",
              "183977      74.0       64.0              57.0           86.0     77.0   \n",
              "183978      74.0       68.0              57.0           88.0     77.0   \n",
              "\n",
              "        dribbling  ...  vision  penalties  marking  standing_tackle  \\\n",
              "id                 ...                                                \n",
              "1            51.0  ...    54.0       48.0     65.0             69.0   \n",
              "2            51.0  ...    54.0       48.0     65.0             69.0   \n",
              "3            51.0  ...    54.0       48.0     65.0             66.0   \n",
              "4            50.0  ...    53.0       47.0     62.0             63.0   \n",
              "5            50.0  ...    53.0       47.0     62.0             63.0   \n",
              "...           ...  ...     ...        ...      ...              ...   \n",
              "183974       84.0  ...    88.0       83.0     22.0             31.0   \n",
              "183975       85.0  ...    88.0       70.0     32.0             31.0   \n",
              "183976       85.0  ...    88.0       70.0     32.0             31.0   \n",
              "183977       87.0  ...    88.0       53.0     28.0             32.0   \n",
              "183978       87.0  ...    88.0       53.0     38.0             32.0   \n",
              "\n",
              "        sliding_tackle  gk_diving  gk_handling  gk_kicking  gk_positioning  \\\n",
              "id                                                                           \n",
              "1                 69.0        6.0         11.0        10.0             8.0   \n",
              "2                 69.0        6.0         11.0        10.0             8.0   \n",
              "3                 69.0        6.0         11.0        10.0             8.0   \n",
              "4                 66.0        5.0         10.0         9.0             7.0   \n",
              "5                 66.0        5.0         10.0         9.0             7.0   \n",
              "...                ...        ...          ...         ...             ...   \n",
              "183974            30.0        9.0         20.0        84.0            20.0   \n",
              "183975            30.0        9.0         20.0        73.0            20.0   \n",
              "183976            30.0        9.0         20.0        73.0            20.0   \n",
              "183977            30.0        9.0         20.0        73.0            20.0   \n",
              "183978            30.0        9.0          9.0        78.0             7.0   \n",
              "\n",
              "        gk_reflexes  \n",
              "id                   \n",
              "1               8.0  \n",
              "2               8.0  \n",
              "3               8.0  \n",
              "4               7.0  \n",
              "5               7.0  \n",
              "...             ...  \n",
              "183974         20.0  \n",
              "183975         20.0  \n",
              "183976         20.0  \n",
              "183977         20.0  \n",
              "183978         15.0  \n",
              "\n",
              "[183978 rows x 37 columns]"
            ],
            "text/html": [
              "\n",
              "  <div id=\"df-92a44e47-ae64-42e7-92cd-b0bde1a7de48\">\n",
              "    <div class=\"colab-df-container\">\n",
              "      <div>\n",
              "<style scoped>\n",
              "    .dataframe tbody tr th:only-of-type {\n",
              "        vertical-align: middle;\n",
              "    }\n",
              "\n",
              "    .dataframe tbody tr th {\n",
              "        vertical-align: top;\n",
              "    }\n",
              "\n",
              "    .dataframe thead th {\n",
              "        text-align: right;\n",
              "    }\n",
              "</style>\n",
              "<table border=\"1\" class=\"dataframe\">\n",
              "  <thead>\n",
              "    <tr style=\"text-align: right;\">\n",
              "      <th></th>\n",
              "      <th>player_fifa_api_id</th>\n",
              "      <th>player_api_id</th>\n",
              "      <th>overall_rating</th>\n",
              "      <th>potential</th>\n",
              "      <th>crossing</th>\n",
              "      <th>finishing</th>\n",
              "      <th>heading_accuracy</th>\n",
              "      <th>short_passing</th>\n",
              "      <th>volleys</th>\n",
              "      <th>dribbling</th>\n",
              "      <th>...</th>\n",
              "      <th>vision</th>\n",
              "      <th>penalties</th>\n",
              "      <th>marking</th>\n",
              "      <th>standing_tackle</th>\n",
              "      <th>sliding_tackle</th>\n",
              "      <th>gk_diving</th>\n",
              "      <th>gk_handling</th>\n",
              "      <th>gk_kicking</th>\n",
              "      <th>gk_positioning</th>\n",
              "      <th>gk_reflexes</th>\n",
              "    </tr>\n",
              "    <tr>\n",
              "      <th>id</th>\n",
              "      <th></th>\n",
              "      <th></th>\n",
              "      <th></th>\n",
              "      <th></th>\n",
              "      <th></th>\n",
              "      <th></th>\n",
              "      <th></th>\n",
              "      <th></th>\n",
              "      <th></th>\n",
              "      <th></th>\n",
              "      <th></th>\n",
              "      <th></th>\n",
              "      <th></th>\n",
              "      <th></th>\n",
              "      <th></th>\n",
              "      <th></th>\n",
              "      <th></th>\n",
              "      <th></th>\n",
              "      <th></th>\n",
              "      <th></th>\n",
              "      <th></th>\n",
              "    </tr>\n",
              "  </thead>\n",
              "  <tbody>\n",
              "    <tr>\n",
              "      <th>1</th>\n",
              "      <td>218353</td>\n",
              "      <td>505942</td>\n",
              "      <td>67.0</td>\n",
              "      <td>71.0</td>\n",
              "      <td>49.0</td>\n",
              "      <td>44.0</td>\n",
              "      <td>71.0</td>\n",
              "      <td>61.0</td>\n",
              "      <td>44.0</td>\n",
              "      <td>51.0</td>\n",
              "      <td>...</td>\n",
              "      <td>54.0</td>\n",
              "      <td>48.0</td>\n",
              "      <td>65.0</td>\n",
              "      <td>69.0</td>\n",
              "      <td>69.0</td>\n",
              "      <td>6.0</td>\n",
              "      <td>11.0</td>\n",
              "      <td>10.0</td>\n",
              "      <td>8.0</td>\n",
              "      <td>8.0</td>\n",
              "    </tr>\n",
              "    <tr>\n",
              "      <th>2</th>\n",
              "      <td>218353</td>\n",
              "      <td>505942</td>\n",
              "      <td>67.0</td>\n",
              "      <td>71.0</td>\n",
              "      <td>49.0</td>\n",
              "      <td>44.0</td>\n",
              "      <td>71.0</td>\n",
              "      <td>61.0</td>\n",
              "      <td>44.0</td>\n",
              "      <td>51.0</td>\n",
              "      <td>...</td>\n",
              "      <td>54.0</td>\n",
              "      <td>48.0</td>\n",
              "      <td>65.0</td>\n",
              "      <td>69.0</td>\n",
              "      <td>69.0</td>\n",
              "      <td>6.0</td>\n",
              "      <td>11.0</td>\n",
              "      <td>10.0</td>\n",
              "      <td>8.0</td>\n",
              "      <td>8.0</td>\n",
              "    </tr>\n",
              "    <tr>\n",
              "      <th>3</th>\n",
              "      <td>218353</td>\n",
              "      <td>505942</td>\n",
              "      <td>62.0</td>\n",
              "      <td>66.0</td>\n",
              "      <td>49.0</td>\n",
              "      <td>44.0</td>\n",
              "      <td>71.0</td>\n",
              "      <td>61.0</td>\n",
              "      <td>44.0</td>\n",
              "      <td>51.0</td>\n",
              "      <td>...</td>\n",
              "      <td>54.0</td>\n",
              "      <td>48.0</td>\n",
              "      <td>65.0</td>\n",
              "      <td>66.0</td>\n",
              "      <td>69.0</td>\n",
              "      <td>6.0</td>\n",
              "      <td>11.0</td>\n",
              "      <td>10.0</td>\n",
              "      <td>8.0</td>\n",
              "      <td>8.0</td>\n",
              "    </tr>\n",
              "    <tr>\n",
              "      <th>4</th>\n",
              "      <td>218353</td>\n",
              "      <td>505942</td>\n",
              "      <td>61.0</td>\n",
              "      <td>65.0</td>\n",
              "      <td>48.0</td>\n",
              "      <td>43.0</td>\n",
              "      <td>70.0</td>\n",
              "      <td>60.0</td>\n",
              "      <td>43.0</td>\n",
              "      <td>50.0</td>\n",
              "      <td>...</td>\n",
              "      <td>53.0</td>\n",
              "      <td>47.0</td>\n",
              "      <td>62.0</td>\n",
              "      <td>63.0</td>\n",
              "      <td>66.0</td>\n",
              "      <td>5.0</td>\n",
              "      <td>10.0</td>\n",
              "      <td>9.0</td>\n",
              "      <td>7.0</td>\n",
              "      <td>7.0</td>\n",
              "    </tr>\n",
              "    <tr>\n",
              "      <th>5</th>\n",
              "      <td>218353</td>\n",
              "      <td>505942</td>\n",
              "      <td>61.0</td>\n",
              "      <td>65.0</td>\n",
              "      <td>48.0</td>\n",
              "      <td>43.0</td>\n",
              "      <td>70.0</td>\n",
              "      <td>60.0</td>\n",
              "      <td>43.0</td>\n",
              "      <td>50.0</td>\n",
              "      <td>...</td>\n",
              "      <td>53.0</td>\n",
              "      <td>47.0</td>\n",
              "      <td>62.0</td>\n",
              "      <td>63.0</td>\n",
              "      <td>66.0</td>\n",
              "      <td>5.0</td>\n",
              "      <td>10.0</td>\n",
              "      <td>9.0</td>\n",
              "      <td>7.0</td>\n",
              "      <td>7.0</td>\n",
              "    </tr>\n",
              "    <tr>\n",
              "      <th>...</th>\n",
              "      <td>...</td>\n",
              "      <td>...</td>\n",
              "      <td>...</td>\n",
              "      <td>...</td>\n",
              "      <td>...</td>\n",
              "      <td>...</td>\n",
              "      <td>...</td>\n",
              "      <td>...</td>\n",
              "      <td>...</td>\n",
              "      <td>...</td>\n",
              "      <td>...</td>\n",
              "      <td>...</td>\n",
              "      <td>...</td>\n",
              "      <td>...</td>\n",
              "      <td>...</td>\n",
              "      <td>...</td>\n",
              "      <td>...</td>\n",
              "      <td>...</td>\n",
              "      <td>...</td>\n",
              "      <td>...</td>\n",
              "      <td>...</td>\n",
              "    </tr>\n",
              "    <tr>\n",
              "      <th>183974</th>\n",
              "      <td>102359</td>\n",
              "      <td>39902</td>\n",
              "      <td>83.0</td>\n",
              "      <td>85.0</td>\n",
              "      <td>84.0</td>\n",
              "      <td>77.0</td>\n",
              "      <td>59.0</td>\n",
              "      <td>89.0</td>\n",
              "      <td>77.0</td>\n",
              "      <td>84.0</td>\n",
              "      <td>...</td>\n",
              "      <td>88.0</td>\n",
              "      <td>83.0</td>\n",
              "      <td>22.0</td>\n",
              "      <td>31.0</td>\n",
              "      <td>30.0</td>\n",
              "      <td>9.0</td>\n",
              "      <td>20.0</td>\n",
              "      <td>84.0</td>\n",
              "      <td>20.0</td>\n",
              "      <td>20.0</td>\n",
              "    </tr>\n",
              "    <tr>\n",
              "      <th>183975</th>\n",
              "      <td>102359</td>\n",
              "      <td>39902</td>\n",
              "      <td>78.0</td>\n",
              "      <td>80.0</td>\n",
              "      <td>74.0</td>\n",
              "      <td>76.0</td>\n",
              "      <td>53.0</td>\n",
              "      <td>84.0</td>\n",
              "      <td>77.0</td>\n",
              "      <td>85.0</td>\n",
              "      <td>...</td>\n",
              "      <td>88.0</td>\n",
              "      <td>70.0</td>\n",
              "      <td>32.0</td>\n",
              "      <td>31.0</td>\n",
              "      <td>30.0</td>\n",
              "      <td>9.0</td>\n",
              "      <td>20.0</td>\n",
              "      <td>73.0</td>\n",
              "      <td>20.0</td>\n",
              "      <td>20.0</td>\n",
              "    </tr>\n",
              "    <tr>\n",
              "      <th>183976</th>\n",
              "      <td>102359</td>\n",
              "      <td>39902</td>\n",
              "      <td>77.0</td>\n",
              "      <td>80.0</td>\n",
              "      <td>74.0</td>\n",
              "      <td>71.0</td>\n",
              "      <td>53.0</td>\n",
              "      <td>84.0</td>\n",
              "      <td>77.0</td>\n",
              "      <td>85.0</td>\n",
              "      <td>...</td>\n",
              "      <td>88.0</td>\n",
              "      <td>70.0</td>\n",
              "      <td>32.0</td>\n",
              "      <td>31.0</td>\n",
              "      <td>30.0</td>\n",
              "      <td>9.0</td>\n",
              "      <td>20.0</td>\n",
              "      <td>73.0</td>\n",
              "      <td>20.0</td>\n",
              "      <td>20.0</td>\n",
              "    </tr>\n",
              "    <tr>\n",
              "      <th>183977</th>\n",
              "      <td>102359</td>\n",
              "      <td>39902</td>\n",
              "      <td>78.0</td>\n",
              "      <td>81.0</td>\n",
              "      <td>74.0</td>\n",
              "      <td>64.0</td>\n",
              "      <td>57.0</td>\n",
              "      <td>86.0</td>\n",
              "      <td>77.0</td>\n",
              "      <td>87.0</td>\n",
              "      <td>...</td>\n",
              "      <td>88.0</td>\n",
              "      <td>53.0</td>\n",
              "      <td>28.0</td>\n",
              "      <td>32.0</td>\n",
              "      <td>30.0</td>\n",
              "      <td>9.0</td>\n",
              "      <td>20.0</td>\n",
              "      <td>73.0</td>\n",
              "      <td>20.0</td>\n",
              "      <td>20.0</td>\n",
              "    </tr>\n",
              "    <tr>\n",
              "      <th>183978</th>\n",
              "      <td>102359</td>\n",
              "      <td>39902</td>\n",
              "      <td>80.0</td>\n",
              "      <td>81.0</td>\n",
              "      <td>74.0</td>\n",
              "      <td>68.0</td>\n",
              "      <td>57.0</td>\n",
              "      <td>88.0</td>\n",
              "      <td>77.0</td>\n",
              "      <td>87.0</td>\n",
              "      <td>...</td>\n",
              "      <td>88.0</td>\n",
              "      <td>53.0</td>\n",
              "      <td>38.0</td>\n",
              "      <td>32.0</td>\n",
              "      <td>30.0</td>\n",
              "      <td>9.0</td>\n",
              "      <td>9.0</td>\n",
              "      <td>78.0</td>\n",
              "      <td>7.0</td>\n",
              "      <td>15.0</td>\n",
              "    </tr>\n",
              "  </tbody>\n",
              "</table>\n",
              "<p>183978 rows × 37 columns</p>\n",
              "</div>\n",
              "      <button class=\"colab-df-convert\" onclick=\"convertToInteractive('df-92a44e47-ae64-42e7-92cd-b0bde1a7de48')\"\n",
              "              title=\"Convert this dataframe to an interactive table.\"\n",
              "              style=\"display:none;\">\n",
              "        \n",
              "  <svg xmlns=\"http://www.w3.org/2000/svg\" height=\"24px\"viewBox=\"0 0 24 24\"\n",
              "       width=\"24px\">\n",
              "    <path d=\"M0 0h24v24H0V0z\" fill=\"none\"/>\n",
              "    <path d=\"M18.56 5.44l.94 2.06.94-2.06 2.06-.94-2.06-.94-.94-2.06-.94 2.06-2.06.94zm-11 1L8.5 8.5l.94-2.06 2.06-.94-2.06-.94L8.5 2.5l-.94 2.06-2.06.94zm10 10l.94 2.06.94-2.06 2.06-.94-2.06-.94-.94-2.06-.94 2.06-2.06.94z\"/><path d=\"M17.41 7.96l-1.37-1.37c-.4-.4-.92-.59-1.43-.59-.52 0-1.04.2-1.43.59L10.3 9.45l-7.72 7.72c-.78.78-.78 2.05 0 2.83L4 21.41c.39.39.9.59 1.41.59.51 0 1.02-.2 1.41-.59l7.78-7.78 2.81-2.81c.8-.78.8-2.07 0-2.86zM5.41 20L4 18.59l7.72-7.72 1.47 1.35L5.41 20z\"/>\n",
              "  </svg>\n",
              "      </button>\n",
              "      \n",
              "  <style>\n",
              "    .colab-df-container {\n",
              "      display:flex;\n",
              "      flex-wrap:wrap;\n",
              "      gap: 12px;\n",
              "    }\n",
              "\n",
              "    .colab-df-convert {\n",
              "      background-color: #E8F0FE;\n",
              "      border: none;\n",
              "      border-radius: 50%;\n",
              "      cursor: pointer;\n",
              "      display: none;\n",
              "      fill: #1967D2;\n",
              "      height: 32px;\n",
              "      padding: 0 0 0 0;\n",
              "      width: 32px;\n",
              "    }\n",
              "\n",
              "    .colab-df-convert:hover {\n",
              "      background-color: #E2EBFA;\n",
              "      box-shadow: 0px 1px 2px rgba(60, 64, 67, 0.3), 0px 1px 3px 1px rgba(60, 64, 67, 0.15);\n",
              "      fill: #174EA6;\n",
              "    }\n",
              "\n",
              "    [theme=dark] .colab-df-convert {\n",
              "      background-color: #3B4455;\n",
              "      fill: #D2E3FC;\n",
              "    }\n",
              "\n",
              "    [theme=dark] .colab-df-convert:hover {\n",
              "      background-color: #434B5C;\n",
              "      box-shadow: 0px 1px 3px 1px rgba(0, 0, 0, 0.15);\n",
              "      filter: drop-shadow(0px 1px 2px rgba(0, 0, 0, 0.3));\n",
              "      fill: #FFFFFF;\n",
              "    }\n",
              "  </style>\n",
              "\n",
              "      <script>\n",
              "        const buttonEl =\n",
              "          document.querySelector('#df-92a44e47-ae64-42e7-92cd-b0bde1a7de48 button.colab-df-convert');\n",
              "        buttonEl.style.display =\n",
              "          google.colab.kernel.accessAllowed ? 'block' : 'none';\n",
              "\n",
              "        async function convertToInteractive(key) {\n",
              "          const element = document.querySelector('#df-92a44e47-ae64-42e7-92cd-b0bde1a7de48');\n",
              "          const dataTable =\n",
              "            await google.colab.kernel.invokeFunction('convertToInteractive',\n",
              "                                                     [key], {});\n",
              "          if (!dataTable) return;\n",
              "\n",
              "          const docLinkHtml = 'Like what you see? Visit the ' +\n",
              "            '<a target=\"_blank\" href=https://colab.research.google.com/notebooks/data_table.ipynb>data table notebook</a>'\n",
              "            + ' to learn more about interactive tables.';\n",
              "          element.innerHTML = '';\n",
              "          dataTable['output_type'] = 'display_data';\n",
              "          await google.colab.output.renderOutput(dataTable, element);\n",
              "          const docLink = document.createElement('div');\n",
              "          docLink.innerHTML = docLinkHtml;\n",
              "          element.appendChild(docLink);\n",
              "        }\n",
              "      </script>\n",
              "    </div>\n",
              "  </div>\n",
              "  "
            ]
          },
          "metadata": {},
          "execution_count": 7
        }
      ],
      "source": [
        "data.select_dtypes(include='number')"
      ]
    },
    {
      "cell_type": "markdown",
      "id": "2867789a",
      "metadata": {
        "id": "2867789a"
      },
      "source": [
        "### Step 2.b: Check for null (missing) values\n",
        "- Data often is missing entries - there can be many reasons for this\n",
        "- We need to deal with that (will do later in course)\n",
        "- Use ```.isnull().any()```\n",
        "- See how many have null values (Assuming `data` contains your data)\n",
        "```Python\n",
        "data.isnull().sum()/len(data)*100\n",
        "```"
      ]
    },
    {
      "cell_type": "code",
      "execution_count": null,
      "id": "20a6535d",
      "metadata": {
        "colab": {
          "base_uri": "https://localhost:8080/"
        },
        "id": "20a6535d",
        "outputId": "2c2522bb-d0d6-4484-97f0-2f3613cc68e9"
      },
      "outputs": [
        {
          "output_type": "execute_result",
          "data": {
            "text/plain": [
              "player_fifa_api_id     False\n",
              "player_api_id          False\n",
              "date                   False\n",
              "overall_rating          True\n",
              "potential               True\n",
              "preferred_foot          True\n",
              "attacking_work_rate     True\n",
              "defensive_work_rate     True\n",
              "crossing                True\n",
              "finishing               True\n",
              "heading_accuracy        True\n",
              "short_passing           True\n",
              "volleys                 True\n",
              "dribbling               True\n",
              "curve                   True\n",
              "free_kick_accuracy      True\n",
              "long_passing            True\n",
              "ball_control            True\n",
              "acceleration            True\n",
              "sprint_speed            True\n",
              "agility                 True\n",
              "reactions               True\n",
              "balance                 True\n",
              "shot_power              True\n",
              "jumping                 True\n",
              "stamina                 True\n",
              "strength                True\n",
              "long_shots              True\n",
              "aggression              True\n",
              "interceptions           True\n",
              "positioning             True\n",
              "vision                  True\n",
              "penalties               True\n",
              "marking                 True\n",
              "standing_tackle         True\n",
              "sliding_tackle          True\n",
              "gk_diving               True\n",
              "gk_handling             True\n",
              "gk_kicking              True\n",
              "gk_positioning          True\n",
              "gk_reflexes             True\n",
              "dtype: bool"
            ]
          },
          "metadata": {},
          "execution_count": 8
        }
      ],
      "source": [
        "data.isnull().any()"
      ]
    },
    {
      "cell_type": "code",
      "execution_count": null,
      "id": "fa8eb876",
      "metadata": {
        "colab": {
          "base_uri": "https://localhost:8080/"
        },
        "id": "fa8eb876",
        "outputId": "9493c81c-ee43-442c-af8d-2bdfdbe8f97e"
      },
      "outputs": [
        {
          "output_type": "execute_result",
          "data": {
            "text/plain": [
              "player_fifa_api_id     0.000000\n",
              "player_api_id          0.000000\n",
              "date                   0.000000\n",
              "overall_rating         0.454402\n",
              "potential              0.454402\n",
              "preferred_foot         0.454402\n",
              "attacking_work_rate    1.755645\n",
              "defensive_work_rate    0.454402\n",
              "crossing               0.454402\n",
              "finishing              0.454402\n",
              "heading_accuracy       0.454402\n",
              "short_passing          0.454402\n",
              "volleys                1.474633\n",
              "dribbling              0.454402\n",
              "curve                  1.474633\n",
              "free_kick_accuracy     0.454402\n",
              "long_passing           0.454402\n",
              "ball_control           0.454402\n",
              "acceleration           0.454402\n",
              "sprint_speed           0.454402\n",
              "agility                1.474633\n",
              "reactions              0.454402\n",
              "balance                1.474633\n",
              "shot_power             0.454402\n",
              "jumping                1.474633\n",
              "stamina                0.454402\n",
              "strength               0.454402\n",
              "long_shots             0.454402\n",
              "aggression             0.454402\n",
              "interceptions          0.454402\n",
              "positioning            0.454402\n",
              "vision                 1.474633\n",
              "penalties              0.454402\n",
              "marking                0.454402\n",
              "standing_tackle        0.454402\n",
              "sliding_tackle         1.474633\n",
              "gk_diving              0.454402\n",
              "gk_handling            0.454402\n",
              "gk_kicking             0.454402\n",
              "gk_positioning         0.454402\n",
              "gk_reflexes            0.454402\n",
              "dtype: float64"
            ]
          },
          "metadata": {},
          "execution_count": 9
        }
      ],
      "source": [
        "data.isnull().sum()/len(data)*100"
      ]
    },
    {
      "cell_type": "markdown",
      "id": "48c7dd7b",
      "metadata": {
        "id": "48c7dd7b"
      },
      "source": [
        "### Step 2.c: Drop missing data\n",
        "- Remove rows with missing data\n",
        "- HINT: `.dropna()`"
      ]
    },
    {
      "cell_type": "code",
      "execution_count": null,
      "id": "0b4ebb91",
      "metadata": {
        "id": "0b4ebb91"
      },
      "outputs": [],
      "source": [
        "data = data.dropna()"
      ]
    },
    {
      "cell_type": "code",
      "execution_count": null,
      "id": "bd3a6b4d",
      "metadata": {
        "colab": {
          "base_uri": "https://localhost:8080/"
        },
        "id": "bd3a6b4d",
        "outputId": "2b0ff261-a06f-4f53-cbbf-ef7df46441e8"
      },
      "outputs": [
        {
          "output_type": "execute_result",
          "data": {
            "text/plain": [
              "180354"
            ]
          },
          "metadata": {},
          "execution_count": 11
        }
      ],
      "source": [
        "len(data)"
      ]
    },
    {
      "cell_type": "markdown",
      "id": "137fdfde",
      "metadata": {
        "id": "137fdfde"
      },
      "source": [
        "### Step 2.d: Visualize data\n",
        "- Make a histogram of the `overall_rating`\n",
        "- This gives you an understanding of the data\n",
        "- What does it tell you?"
      ]
    },
    {
      "cell_type": "code",
      "execution_count": null,
      "id": "1fe6402b",
      "metadata": {
        "colab": {
          "base_uri": "https://localhost:8080/",
          "height": 298
        },
        "id": "1fe6402b",
        "outputId": "765fc50a-da09-4483-e28c-34c6ba2892a6"
      },
      "outputs": [
        {
          "output_type": "execute_result",
          "data": {
            "text/plain": [
              "<matplotlib.axes._subplots.AxesSubplot at 0x7f3072376ac0>"
            ]
          },
          "metadata": {},
          "execution_count": 12
        },
        {
          "output_type": "display_data",
          "data": {
            "text/plain": [
              "<Figure size 432x288 with 1 Axes>"
            ],
            "image/png": "[encoded data removed]"
          },
          "metadata": {
            "needs_background": "light"
          }
        }
      ],
      "source": [
        "data['overall_rating'].plot.hist(title = 'Overall Rating', bins = 20)"
      ]
    },
    {
      "cell_type": "code",
      "execution_count": null,
      "id": "4a0d64c4",
      "metadata": {
        "id": "4a0d64c4",
        "colab": {
          "base_uri": "https://localhost:8080/"
        },
        "outputId": "dbadbb68-be3f-4437-d6e5-7f1a3b1a2b55"
      },
      "outputs": [
        {
          "output_type": "execute_result",
          "data": {
            "text/plain": [
              "count    180354.000000\n",
              "mean         68.635317\n",
              "std           7.027950\n",
              "min          33.000000\n",
              "25%          64.000000\n",
              "50%          69.000000\n",
              "75%          73.000000\n",
              "max          94.000000\n",
              "Name: overall_rating, dtype: float64"
            ]
          },
          "metadata": {},
          "execution_count": 13
        }
      ],
      "source": [
        "data['overall_rating'].describe()"
      ]
    },
    {
      "cell_type": "markdown",
      "id": "8cc1cabe",
      "metadata": {
        "id": "8cc1cabe"
      },
      "source": [
        "## Step 3: Analyze\n",
        "- Feature selection\n",
        "- Model selection\n",
        "- Analyze data"
      ]
    },
    {
      "cell_type": "markdown",
      "id": "28c050b4",
      "metadata": {
        "id": "28c050b4"
      },
      "source": [
        "### Step 3.a: Feature and target selection\n",
        "- The target data is given by `overall_rating`\n",
        "- As we do not have a description of the date, let's learn a bit about it\n",
        "    - HINT: Use `data.corr()['overall_rating'].sort_values(ascending=False)`\n",
        "- For simplicity de-select features you do not thing should be part of the analysis\n",
        "- Create DataFrames `X` and `y` containing the features and target, respectively.\n",
        "    - HINT: To get all columns except one use `.drop(['overall_rating', <insert other here>], axis=1)`\n",
        "    - HINT: Keep `y` as a DataFrame for simplicity later"
      ]
    },
    {
      "cell_type": "code",
      "execution_count": null,
      "id": "cd76ec01",
      "metadata": {
        "colab": {
          "base_uri": "https://localhost:8080/"
        },
        "id": "cd76ec01",
        "outputId": "fe8366b1-c1e7-48dd-d3a2-5262ab72f879"
      },
      "outputs": [
        {
          "output_type": "execute_result",
          "data": {
            "text/plain": [
              "overall_rating        1.000000\n",
              "reactions             0.771856\n",
              "potential             0.765435\n",
              "short_passing         0.458243\n",
              "ball_control          0.443991\n",
              "long_passing          0.434525\n",
              "vision                0.431493\n",
              "shot_power            0.428053\n",
              "penalties             0.392715\n",
              "long_shots            0.392668\n",
              "positioning           0.368978\n",
              "volleys               0.361739\n",
              "curve                 0.357566\n",
              "crossing              0.357320\n",
              "dribbling             0.354191\n",
              "free_kick_accuracy    0.349800\n",
              "finishing             0.330079\n",
              "stamina               0.325606\n",
              "aggression            0.322782\n",
              "strength              0.315684\n",
              "heading_accuracy      0.313324\n",
              "jumping               0.258978\n",
              "sprint_speed          0.253048\n",
              "interceptions         0.249094\n",
              "acceleration          0.243998\n",
              "agility               0.239963\n",
              "standing_tackle       0.163986\n",
              "balance               0.160211\n",
              "marking               0.132185\n",
              "sliding_tackle        0.128054\n",
              "gk_kicking            0.028799\n",
              "gk_diving             0.027675\n",
              "gk_positioning        0.008029\n",
              "gk_reflexes           0.007804\n",
              "gk_handling           0.006717\n",
              "player_fifa_api_id   -0.278703\n",
              "player_api_id        -0.328315\n",
              "Name: overall_rating, dtype: float64"
            ]
          },
          "metadata": {},
          "execution_count": 14
        }
      ],
      "source": [
        "data.corr()['overall_rating'].sort_values(ascending=False)"
      ]
    },
    {
      "cell_type": "code",
      "execution_count": null,
      "id": "c75fe7f0",
      "metadata": {
        "id": "c75fe7f0"
      },
      "outputs": [],
      "source": [
        "data = data.select_dtypes(include='number')\n",
        "X = data.drop(['overall_rating', 'potential'], axis=1)\n",
        "y = data['overall_rating']"
      ]
    },
    {
      "cell_type": "markdown",
      "id": "9420902d",
      "metadata": {
        "id": "9420902d"
      },
      "source": [
        "### Step 3.b: Divide into test and train\n",
        "- We do this to test the accuracy of our model\n",
        "- The idea is: We train on one dataset, then test on another to see how it performs\n",
        "- To split dataset use\n",
        "```Python\n",
        "X_train, X_test, y_train, y_test = train_test_split(X, y, random_state=42)\n",
        "```\n",
        "- The `random_state=42` is used for reproducability"
      ]
    },
    {
      "cell_type": "code",
      "execution_count": null,
      "id": "6f42cc80",
      "metadata": {
        "id": "6f42cc80"
      },
      "outputs": [],
      "source": [
        "X_train, X_test, y_train, y_test = train_test_split(X, y, random_state=42)"
      ]
    },
    {
      "cell_type": "markdown",
      "id": "908a00b9",
      "metadata": {
        "id": "908a00b9"
      },
      "source": [
        "### Step 3.c: Train the model\n",
        "- Create a Linear Regression instance and fit it.\n",
        "- HINT: Do this on train data (`X_train` and `y_train`)"
      ]
    },
    {
      "cell_type": "code",
      "execution_count": null,
      "id": "4560f083",
      "metadata": {
        "id": "4560f083",
        "colab": {
          "base_uri": "https://localhost:8080/"
        },
        "outputId": "90adf8d1-ad45-406d-bd8b-ad1b3bf8c3d6"
      },
      "outputs": [
        {
          "output_type": "execute_result",
          "data": {
            "text/plain": [
              "LinearRegression()"
            ]
          },
          "metadata": {},
          "execution_count": 19
        }
      ],
      "source": [
        "lin = LinearRegression()\n",
        "lin.fit(X_train, y_train)"
      ]
    },
    {
      "cell_type": "markdown",
      "id": "57dfea57",
      "metadata": {
        "id": "57dfea57"
      },
      "source": [
        "### Step 3.d: Predict on test data\n",
        "- Here we make predictions\n",
        "- HINT: Use your model to predict `.predict(X_test)` and assign the result to `y_pred`"
      ]
    },
    {
      "cell_type": "code",
      "execution_count": null,
      "id": "f8a6caf4",
      "metadata": {
        "id": "f8a6caf4"
      },
      "outputs": [],
      "source": [
        "y_pred = lin.predict(X_test)"
      ]
    },
    {
      "cell_type": "markdown",
      "id": "72cd9a42",
      "metadata": {
        "id": "72cd9a42"
      },
      "source": [
        "### Step 3.e: Evaluate the model\n",
        "- Apply r-squared on the predicted results and the real results\n",
        "- HINT: Use `r2_score` on `y_pred` and `y_test`"
      ]
    },
    {
      "cell_type": "code",
      "execution_count": null,
      "id": "c61173a5",
      "metadata": {
        "id": "c61173a5",
        "colab": {
          "base_uri": "https://localhost:8080/"
        },
        "outputId": "a4ddea84-9899-466d-a663-1435493599f3"
      },
      "outputs": [
        {
          "output_type": "execute_result",
          "data": {
            "text/plain": [
              "0.7315032282738694"
            ]
          },
          "metadata": {},
          "execution_count": 21
        }
      ],
      "source": [
        "r2_score(y_pred, y_test)"
      ]
    },
    {
      "cell_type": "markdown",
      "id": "98a71ee2",
      "metadata": {
        "id": "98a71ee2"
      },
      "source": [
        "## Step 4: Report\n",
        "- Present findings\n",
        "- Visualize results\n",
        "- Credibility counts"
      ]
    },
    {
      "cell_type": "markdown",
      "id": "2c842708",
      "metadata": {
        "id": "2c842708"
      },
      "source": [
        "### Step 4.a: Present finding\n",
        "- This is more a practice of creating a model\n",
        "- But feel free to be creative\n",
        "- An option could be to investigate the best indicator of a player"
      ]
    },
    {
      "cell_type": "code",
      "execution_count": null,
      "id": "28af5a75",
      "metadata": {
        "id": "28af5a75"
      },
      "outputs": [],
      "source": []
    },
    {
      "cell_type": "code",
      "execution_count": null,
      "id": "5ff67d67",
      "metadata": {
        "id": "5ff67d67"
      },
      "outputs": [],
      "source": []
    },
    {
      "cell_type": "markdown",
      "id": "65c865f1",
      "metadata": {
        "id": "65c865f1"
      },
      "source": [
        "## Step 5: Actions\n",
        "- Use insights\n",
        "- Measure impact\n",
        "- Main goal"
      ]
    },
    {
      "cell_type": "code",
      "execution_count": null,
      "id": "6fef5c7b",
      "metadata": {
        "id": "6fef5c7b"
      },
      "outputs": [],
      "source": []
    },
    {
      "cell_type": "code",
      "execution_count": null,
      "id": "a9600a64",
      "metadata": {
        "id": "a9600a64"
      },
      "outputs": [],
      "source": []
    }
  ],
  "metadata": {
    "kernelspec": {
      "display_name": "Python 3 (ipykernel)",
      "language": "python",
      "name": "python3"
    },
    "language_info": {
      "codemirror_mode": {
        "name": "ipython",
        "version": 3
      },
      "file_extension": ".py",
      "mimetype": "text/x-python",
      "name": "python",
      "nbconvert_exporter": "python",
      "pygments_lexer": "ipython3",
      "version": "3.9.10"
    },
    "colab": {
      "provenance": [],
      "include_colab_link": true
    }
  },
  "nbformat": 4,
  "nbformat_minor": 5
}